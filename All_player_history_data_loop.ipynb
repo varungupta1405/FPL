{
 "cells": [
  {
   "cell_type": "code",
   "execution_count": 1,
   "metadata": {
    "collapsed": false
   },
   "outputs": [],
   "source": [
    "import urllib, json\n",
    "import pandas as pd\n",
    "from pandas import DataFrame,Series   #learn about pandas\n",
    "i=1\n",
    "\n",
    "while(i<587):\n",
    "\n",
    "    url = urllib.urlopen(\"https://fantasy.premierleague.com/drf/element-summary/\"+str(i))\n",
    "    data = json.load(url)\n",
    "    #history_past\n",
    "    lst_id = []\n",
    "    lst_season_name = []\n",
    "    lst_element_code =[]\n",
    "    lst_start_cost = []\n",
    "    lst_end_cost = []\n",
    "    lst_total_points = []\n",
    "    lst_minutes = []\n",
    "    lst_goals_scored = []\n",
    "    lst_assists = []\n",
    "    \n",
    "    for a in data ['history_past']:\n",
    "        if a == []:\n",
    "            break\n",
    "        lst_season_name.append(a['season_name'])\n",
    "        lst_element_code.append(a['element_code'])\n",
    "        lst_start_cost.append(a['start_cost']) \n",
    "        lst_end_cost.append(a['end_cost'])\n",
    "        lst_total_points.append(a['total_points'])\n",
    "        lst_minutes.append(a['minutes'])\n",
    "        lst_goals_scored.append(a['goals_scored'])\n",
    "        lst_assists.append(a['assists'])\n",
    "        \n",
    "        dframe = {}\n",
    "        dframe = DataFrame(dframe)\n",
    "        dframe['Season Name'] = lst_season_name\n",
    "        dframe['Element Code'] = lst_element_code\n",
    "        dframe['Start Cost'] = lst_start_cost\n",
    "        dframe['End Cost'] = lst_end_cost\n",
    "        dframe['Total Points'] = lst_total_points\n",
    "        dframe['Minuted Played'] = lst_minutes\n",
    "        dframe['Goals Scored'] = lst_goals_scored\n",
    "        dframe['Assists'] = lst_assists\n",
    "        filename = \"player_past \" +str(i)+  \".csv\"\n",
    "        dframe.to_csv(filename)\n",
    "    i=i+1\n"
   ]
  },
  {
   "cell_type": "code",
   "execution_count": null,
   "metadata": {
    "collapsed": true
   },
   "outputs": [],
   "source": []
  }
 ],
 "metadata": {
  "anaconda-cloud": {},
  "kernelspec": {
   "display_name": "Python [default]",
   "language": "python",
   "name": "python2"
  },
  "language_info": {
   "codemirror_mode": {
    "name": "ipython",
    "version": 2
   },
   "file_extension": ".py",
   "mimetype": "text/x-python",
   "name": "python",
   "nbconvert_exporter": "python",
   "pygments_lexer": "ipython2",
   "version": "2.7.12"
  }
 },
 "nbformat": 4,
 "nbformat_minor": 0
}
