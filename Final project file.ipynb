{
 "cells": [
  {
   "cell_type": "markdown",
   "metadata": {},
   "source": [
    "# Project report Fantasy Premier League"
   ]
  },
  {
   "cell_type": "markdown",
   "metadata": {},
   "source": [
    "Fetching data for all players of the current season"
   ]
  },
  {
   "cell_type": "code",
   "execution_count": null,
   "metadata": {
    "collapsed": true
   },
   "outputs": [],
   "source": [
    "import urllib, json\n",
    "import pandas as pd\n",
    "from pandas import DataFrame,Series   #learn about pandas\n",
    "i=1\n",
    "while(i<587):\n",
    "    url = urllib.urlopen(\"https://fantasy.premierleague.com/drf/element-summary/\"+str(i))\n",
    "    data = json.load(url)\n",
    "    #print data\n",
    "    #history_summary\n",
    "    lst_id = []\n",
    "    lst_kickoff_time = []\n",
    "    lst_kickoff_time_formatted = []\n",
    "    lst_team_h_score = []\n",
    "    lst_team_a_score = []\n",
    "    lst_was_home = []\n",
    "    lst_round = []\n",
    "    lst_total_points = []\n",
    "    lst_value = []\n",
    "    lst_transfers_balance = []\n",
    "    lst_selected = []\n",
    "    lst_transfers_in = []\n",
    "    lst_transfers_out = []\n",
    "    lst_minutes = []\n",
    "    lst_goals_scored = []\n",
    "    lst_assists = []\n",
    "    lst_clean_sheets = []\n",
    "    lst_goals_conceded = []\n",
    "    lst_own_goals = []\n",
    "    lst_penalties_saved = []\n",
    "    lst_penalties_missed = []\n",
    "    lst_yellow_cards = []\n",
    "    lst_red_cards = []\n",
    "    lst_saves = []\n",
    "    lst_bonus = []\n",
    "    lst_bps = []\n",
    "    lst_influence = []\n",
    "    lst_creativity = []\n",
    "    lst_threat = []\n",
    "    lst_open_play_crosses = []\n",
    "    lst_big_chances_created = []\n",
    "    lst_clearances_blocks_interceptions = []\n",
    "    lst_recoveries = []\n",
    "    lst_key_passes = []\n",
    "    lst_tackles = []\n",
    "    lst_winning_goals = []\n",
    "    lst_attempted_passes = []\n",
    "    lst_completed_passes = []\n",
    "    lst_penalties_conceded = []\n",
    "    lst_big_chances_missed = []\n",
    "    lst_errors_leading_to_goal = []\n",
    "    lst_errors_leading_to_goal_attempt = []\n",
    "    lst_tackled = []\n",
    "    lst_offside = []\n",
    "    lst_target_missed = []\n",
    "    lst_fouls = []\n",
    "    lst_dribbles = []\n",
    "    lst_element = []\n",
    "    lst_fixture = []\n",
    "    lst_opponent_team = [] \n",
    "    \n",
    "    for b in data ['history']:\n",
    "        lst_id.append(b['id'])\n",
    "        lst_kickoff_time.append(b['kickoff_time'])\n",
    "        lst_kickoff_time_formatted.append(b['kickoff_time_formatted'])\n",
    "        lst_team_h_score.append(b['team_h_score'])\n",
    "        lst_team_a_score.append(b['team_a_score'])\n",
    "        lst_was_home.append(b['was_home'])\n",
    "        lst_round.append(b['round'])\n",
    "        lst_total_points.append(b['total_points'])\n",
    "        lst_value.append(b['value'])\n",
    "        lst_transfers_balance.append(b['transfers_balance'])\n",
    "        lst_selected.append(b['selected'])\n",
    "        lst_transfers_in.append(b['transfers_in'])\n",
    "        lst_transfers_out.append(b['transfers_out'])\n",
    "        lst_minutes.append(b['minutes'])\n",
    "        lst_goals_scored.append(b['goals_scored'])\n",
    "        lst_assists.append(b['assists'])\n",
    "        lst_clean_sheets.append(b['clean_sheets'])\n",
    "        lst_goals_conceded.append(b['goals_conceded'])\n",
    "        lst_own_goals.append(b['own_goals'])\n",
    "        lst_penalties_saved.append(b['penalties_saved'])\n",
    "        lst_penalties_missed.append(b['penalties_missed'])\n",
    "        lst_yellow_cards.append(b['yellow_cards'])\n",
    "        lst_red_cards.append(b['red_cards'])\n",
    "        lst_saves.append(b['saves'])\n",
    "        lst_bonus.append(b['bonus'])\n",
    "        lst_bps.append(b['bps'])\n",
    "        lst_influence.append(b['influence'])\n",
    "        lst_creativity.append(b['creativity'])\n",
    "        lst_threat.append(b['threat'])\n",
    "        lst_open_play_crosses.append(b['open_play_crosses'])\n",
    "        lst_big_chances_created.append(b['big_chances_created'])\n",
    "        lst_clearances_blocks_interceptions.append(b['clearances_blocks_interceptions'])\n",
    "        lst_recoveries.append(b['recoveries'])\n",
    "        lst_key_passes.append(b['key_passes'])\n",
    "        lst_tackles.append(b['tackles'])\n",
    "        lst_winning_goals.append(b['winning_goals'])\n",
    "        lst_attempted_passes.append(b['attempted_passes'])\n",
    "        lst_completed_passes.append(b['completed_passes'])\n",
    "        lst_penalties_conceded.append(b['penalties_conceded'])\n",
    "        lst_big_chances_missed.append(b['big_chances_missed'])\n",
    "        lst_errors_leading_to_goal.append(b['errors_leading_to_goal'])\n",
    "        lst_errors_leading_to_goal_attempt.append(b['errors_leading_to_goal_attempt'])\n",
    "        lst_tackled.append(b['tackled'])\n",
    "        lst_offside.append(b['offside'])\n",
    "        lst_target_missed.append(b['target_missed'])\n",
    "        lst_fouls.append(b['fouls'])\n",
    "        lst_dribbles.append(b['dribbles'])\n",
    "        lst_element.append(b['element'])\n",
    "        lst_fixture.append(b['fixture'])\n",
    "        lst_opponent_team.append(b['opponent_team'])\n",
    "    #print len(lst_total_points)\n",
    "    #print len(lst_fixture)\n",
    "    #print len(lst_tackled)\n",
    "    #print len(lst_offside)\n",
    "    \n",
    "    dframe1 ={}\n",
    "    dframe1 = DataFrame(dframe1)\n",
    "    dframe1['Player ID'] = lst_id\n",
    "    dframe1['Element Code'] = lst_element\n",
    "    dframe1['Kickoff Time'] = lst_kickoff_time\n",
    "    dframe1['Kickoff Time Formatted'] = lst_kickoff_time_formatted\n",
    "    dframe1['Home Team Score'] = lst_team_h_score\n",
    "    dframe1['Away Team Score'] = lst_team_a_score\n",
    "    dframe1['Home match'] = lst_was_home\n",
    "    dframe1['Round'] = lst_round\n",
    "    dframe1['Total Points'] = lst_total_points\n",
    "    dframe1['Value'] = lst_value\n",
    "    dframe1['Transfer Balance'] = lst_transfers_balance\n",
    "    dframe1['Selected By'] = lst_selected\n",
    "    dframe1['Transfer In'] = lst_transfers_in\n",
    "    dframe1['Transfer Out'] = lst_transfers_out\n",
    "    dframe1['Minuted Played'] = lst_minutes\n",
    "    dframe1['Goals Scored'] = lst_goals_scored\n",
    "    dframe1['Assists'] = lst_assists\n",
    "    dframe1['Clean Sheets'] = lst_clean_sheets\n",
    "    dframe1['Goals Conceeded'] = lst_goals_conceded\n",
    "    dframe1['Own Goals'] = lst_own_goals\n",
    "    dframe1['Penalties Saved'] = lst_penalties_saved\n",
    "    dframe1['Penalties Missed'] = lst_penalties_missed\n",
    "    dframe1['Yellow Cards'] = lst_yellow_cards\n",
    "    dframe1['Red Cards'] = lst_red_cards\n",
    "    dframe1['Saves'] = lst_saves\n",
    "    dframe1['Bonus'] = lst_bonus\n",
    "    dframe1['BPS'] = lst_bps\n",
    "    dframe1['Influence'] = lst_influence\n",
    "    dframe1['Creativity'] = lst_creativity\n",
    "    dframe1['Threat'] = lst_threat\n",
    "    dframe1['Open Play Crosses'] = lst_open_play_crosses\n",
    "    dframe1['Big Chances Created'] = lst_big_chances_created\n",
    "    dframe1['Clearances Blocks Interceptions'] = lst_clearances_blocks_interceptions\n",
    "    dframe1['Recoveries'] = lst_recoveries\n",
    "    dframe1['Key Passes'] = lst_key_passes\n",
    "    dframe1['Tackles'] = lst_tackles\n",
    "    dframe1['Winning Goals'] = lst_winning_goals\n",
    "    dframe1['Attempted Passes'] = lst_attempted_passes\n",
    "    dframe1['Completed Passes'] = lst_completed_passes\n",
    "    dframe1['Penalties Conceded'] = lst_penalties_conceded\n",
    "    dframe1['Big Chances Missed'] = lst_big_chances_missed\n",
    "    dframe1['Errors Leading To Goal'] = lst_errors_leading_to_goal\n",
    "    dframe1['Errors Leading To Goal Attempts'] = lst_errors_leading_to_goal_attempt\n",
    "    dframe1['Tackled'] = lst_tackled\n",
    "    dframe1['Offsides'] = lst_offside\n",
    "    dframe1['Target Misses'] = lst_target_missed\n",
    "    dframe1['Fouls'] = lst_fouls\n",
    "    dframe1['Dribbles'] = lst_dribbles\n",
    "    dframe1['Fixture'] = lst_fixture\n",
    "    dframe1['Opponent Team'] = lst_opponent_team\n",
    "    #print dframe1\n",
    "    filename = \"player \" +str(i)+  \".csv\"\n",
    "    dframe1.to_csv(filename)\n",
    "    i=i+1"
   ]
  },
  {
   "cell_type": "markdown",
   "metadata": {},
   "source": [
    "To fetch data for all player, as per their teams"
   ]
  },
  {
   "cell_type": "code",
   "execution_count": null,
   "metadata": {
    "collapsed": true
   },
   "outputs": [],
   "source": [
    "import urllib, json\n",
    "import pandas as pd\n",
    "from pandas import DataFrame,Series   #learn about pandas\n",
    "\n",
    "url = urllib.urlopen(\"https://fantasy.premierleague.com/drf/bootstrap-static\")      #single static address\n",
    "data = json.load(url)\n",
    "\n",
    "lst_first = []\n",
    "lst_second = []\n",
    "lst_squad_number = []\n",
    "lst_selected_by_percent = []\n",
    "lst_transfers_out = []\n",
    "lst_transfers_in = []\n",
    "lst_total_points = []\n",
    "lst_minutes = []\n",
    "lst_goals_scored = []\n",
    "lst_assists = []\n",
    "lst_clean_sheets = []                                     ## create empty lists for the titles\n",
    "lst_goals_conceded = []\n",
    "lst_own_goals = []\n",
    "lst_penalties_saved = []\n",
    "lst_penalties_missed = []\n",
    "lst_yellow_cards = []\n",
    "lst_red_cards = []\n",
    "lst_saves = []\n",
    "lst_bonus = []\n",
    "lst_team = []\n",
    "lst_now_cost = []\n",
    "lst_points_per_game = []\n",
    "lst_form = []\n",
    "lst_event_points = []\n",
    "lst_influence = []\n",
    "lst_creativity = []\n",
    "lst_threat = []\n",
    "lst_id = []\n",
    "lst_element_type = []\n",
    "lst_team_code = []\n",
    "\n",
    "\n",
    "for a in data ['elements']:\n",
    "    lst_first.append(a['first_name'])\n",
    "    lst_second.append(a['second_name'])\n",
    "    lst_squad_number.append(a['squad_number'])\n",
    "    lst_selected_by_percent.append(a['selected_by_percent'])\n",
    "    lst_transfers_out.append(a['transfers_out'])\n",
    "    lst_transfers_in.append(a['transfers_in'])\n",
    "    lst_total_points.append(a['total_points'])\n",
    "    lst_minutes.append(a['minutes'])\n",
    "    lst_goals_scored.append(a['goals_scored'])\n",
    "    lst_assists.append(a['assists'])\n",
    "    lst_clean_sheets.append(a['clean_sheets'])\n",
    "    lst_goals_conceded.append(a['goals_conceded'])\n",
    "    lst_own_goals.append(a['own_goals'])\n",
    "    lst_penalties_saved.append(a['penalties_saved'])                    ## append the lists and call them from 'a' as defined.\n",
    "    lst_penalties_missed.append(a['penalties_missed'])\n",
    "    lst_id.append(a['id'])\n",
    "    lst_yellow_cards.append(a['yellow_cards'])\n",
    "    lst_red_cards.append(a['red_cards'])\n",
    "    lst_saves.append(a['saves'])\n",
    "    lst_bonus.append(a['bonus'])\n",
    "    lst_team.append(a['team'])\n",
    "    lst_now_cost.append(a['now_cost'])\n",
    "    lst_points_per_game.append(a[\"points_per_game\"])\n",
    "    lst_form.append(a['form'])\n",
    "    lst_event_points.append(a['event_points'])\n",
    "    lst_influence.append(a['influence'])\n",
    "    lst_creativity.append(a['creativity'])\n",
    "    lst_threat.append(a['threat'])\n",
    "    lst_element_type.append(a['element_type'])\n",
    "    lst_team_code.append(a['team_code'])\n",
    "    \n",
    "\n",
    "\n",
    "\n",
    "    \n",
    "    #print type(a['first_name'])        \n",
    "    \n",
    "dframe = {}\n",
    "dframe = DataFrame(dframe)\n",
    "dframe['First Name'] = lst_first\n",
    "dframe['Second Name'] = lst_second\n",
    "dframe['Squad Number'] = lst_squad_number\n",
    "dframe['ID'] = lst_id\n",
    "dframe['Position'] = lst_element_type\n",
    "dframe['Team'] = lst_team_code\n",
    "dframe['Cost'] = lst_now_cost\n",
    "dframe['Form'] = lst_form\n",
    "dframe['GameWeek Points'] = lst_event_points\n",
    "dframe['Influence'] = lst_influence\n",
    "dframe['Creativity'] = lst_creativity\n",
    "dframe['Threat'] = lst_threat\n",
    "dframe['Selected by percent'] = lst_selected_by_percent\n",
    "dframe['Transfer Out'] = lst_transfers_out\n",
    "dframe['Transfer In'] = lst_transfers_in\n",
    "dframe['Total Points'] = lst_total_points\n",
    "dframe['Points Per Game'] = lst_points_per_game\n",
    "dframe['Minutes'] = lst_minutes\n",
    "dframe['Goals Scored'] = lst_goals_scored\n",
    "dframe['Assists'] = lst_assists\n",
    "dframe['Clean Sheets'] = lst_clean_sheets\n",
    "dframe['Goals Conceded'] = lst_goals_conceded\n",
    "dframe['Own Goals'] = lst_own_goals\n",
    "dframe['Penalties Saved'] = lst_penalties_saved\n",
    "dframe['Penalties Missed'] = lst_penalties_missed\n",
    "dframe['Yellow Cards'] = lst_yellow_cards\n",
    "dframe['Red Cards'] = lst_red_cards\n",
    "dframe['Saves'] = lst_saves\n",
    "dframe['Bonus'] = lst_bonus\n",
    "dframe['Team'] = lst_team\n",
    "\n",
    "##print dframe\n",
    "\n",
    "dframe.to_csv('E:\\Project\\Overall_Data.csv', encoding='utf-8')\n",
    "#print data\n",
    "\n"
   ]
  },
  {
   "cell_type": "markdown",
   "metadata": {},
   "source": [
    "Player data from the past seasons"
   ]
  },
  {
   "cell_type": "code",
   "execution_count": null,
   "metadata": {
    "collapsed": true
   },
   "outputs": [],
   "source": [
    "import urllib, json\n",
    "import pandas as pd\n",
    "from pandas import DataFrame,Series   #learn about pandas\n",
    "i=1\n",
    "\n",
    "while(i<587):\n",
    "\n",
    "    url = urllib.urlopen(\"https://fantasy.premierleague.com/drf/element-summary/\"+str(i))\n",
    "    data = json.load(url)\n",
    "    #history_past\n",
    "    lst_id = []\n",
    "    lst_season_name = []\n",
    "    lst_element_code =[]\n",
    "    lst_start_cost = []\n",
    "    lst_end_cost = []\n",
    "    lst_total_points = []\n",
    "    lst_minutes = []\n",
    "    lst_goals_scored = []\n",
    "    lst_assists = []\n",
    "    \n",
    "    for a in data ['history_past']:\n",
    "        if a == []:\n",
    "            break\n",
    "        lst_season_name.append(a['season_name'])\n",
    "        lst_element_code.append(a['element_code'])\n",
    "        lst_start_cost.append(a['start_cost']) \n",
    "        lst_end_cost.append(a['end_cost'])\n",
    "        lst_total_points.append(a['total_points'])\n",
    "        lst_minutes.append(a['minutes'])\n",
    "        lst_goals_scored.append(a['goals_scored'])\n",
    "        lst_assists.append(a['assists'])\n",
    "        \n",
    "        dframe = {}\n",
    "        dframe = DataFrame(dframe)\n",
    "        dframe['Season Name'] = lst_season_name\n",
    "        dframe['Element Code'] = lst_element_code\n",
    "        dframe['Start Cost'] = lst_start_cost\n",
    "        dframe['End Cost'] = lst_end_cost\n",
    "        dframe['Total Points'] = lst_total_points\n",
    "        dframe['Minuted Played'] = lst_minutes\n",
    "        dframe['Goals Scored'] = lst_goals_scored\n",
    "        dframe['Assists'] = lst_assists\n",
    "        filename = \"player_past \" +str(i)+  \".csv\"\n",
    "        dframe.to_csv(filename)\n",
    "    i=i+1\n"
   ]
  },
  {
   "cell_type": "code",
   "execution_count": null,
   "metadata": {
    "collapsed": true
   },
   "outputs": [],
   "source": []
  },
  {
   "cell_type": "code",
   "execution_count": null,
   "metadata": {
    "collapsed": true
   },
   "outputs": [],
   "source": []
  },
  {
   "cell_type": "code",
   "execution_count": 5,
   "metadata": {
    "collapsed": true
   },
   "outputs": [],
   "source": [
    "from sklearn.tree import DecisionTreeClassifier\n",
    "from sklearn.metrics import classification_report\n",
    "from sklearn.cross_validation import train_test_split\n",
    "import pandas as pd\n",
    "from pandas import Series, DataFrame\n",
    "import numpy as np\n",
    "import matplotlib.pylab as plt\n",
    "import seaborn as sns\n",
    "import sklearn.metrics\n",
    "import os\n",
    "from sklearn import datasets, linear_model\n",
    "import plotly.plotly as py\n",
    "import plotly.graph_objs as go\n",
    "%matplotlib inline"
   ]
  },
  {
   "cell_type": "code",
   "execution_count": 10,
   "metadata": {
    "collapsed": true
   },
   "outputs": [],
   "source": [
    "data_1 = pd.read_csv(\"E:\\Project\\Position_1.csv\")\n",
    "data_2 = pd.read_csv(\"E:\\Project\\Position_2.csv\")\n",
    "data_3 = pd.read_csv(\"E:\\Project\\Position_3.csv\")\n",
    "data_4 = pd.read_csv(\"E:\\Project\\Position_4.csv\")\n",
    "data_5 = pd.read_csv(\"E:\\Project\\Overall_Data.csv\")"
   ]
  },
  {
   "cell_type": "code",
   "execution_count": 11,
   "metadata": {
    "collapsed": false
   },
   "outputs": [
    {
     "data": {
      "text/plain": [
       "<matplotlib.axes._subplots.AxesSubplot at 0xed91f28>"
      ]
     },
     "execution_count": 11,
     "metadata": {},
     "output_type": "execute_result"
    },
    {
     "data": {
      "image/png": "[encoded data removed]",
      "text/plain": [
       "<matplotlib.figure.Figure at 0x8d2cd30>"
      ]
     },
     "metadata": {},
     "output_type": "display_data"
    }
   ],
   "source": [
    "sns.barplot(x=\"Team\",y=\"Total Points\", data=data_5)"
   ]
  },
  {
   "cell_type": "markdown",
   "metadata": {},
   "source": [
    "Total points earned by each team ( The x-axis here represents the team code )"
   ]
  },
  {
   "cell_type": "code",
   "execution_count": 12,
   "metadata": {
    "collapsed": false,
    "scrolled": true
   },
   "outputs": [
    {
     "data": {
      "text/plain": [
       "<matplotlib.axes._subplots.AxesSubplot at 0xf2bdc50>"
      ]
     },
     "execution_count": 12,
     "metadata": {},
     "output_type": "execute_result"
    },
    {
     "data": {
      "image/png": "[encoded data removed]",
      "text/plain": [
       "<matplotlib.figure.Figure at 0xf2d2080>"
      ]
     },
     "metadata": {},
     "output_type": "display_data"
    }
   ],
   "source": [
    "sns.barplot(x=\"Position\",y=\"Points Per Game\", data=data_5)"
   ]
  },
  {
   "cell_type": "markdown",
   "metadata": {},
   "source": [
    "Points per game earned by each position:\n",
    ">> [Goalkeeper = 1]\n",
    ">> [Defense = 2]\n",
    ">> [Midfield = 3] \n",
    ">> [Striker = 4]"
   ]
  },
  {
   "cell_type": "code",
   "execution_count": 14,
   "metadata": {
    "collapsed": false
   },
   "outputs": [
    {
     "data": {
      "text/plain": [
       "<matplotlib.axes._subplots.AxesSubplot at 0xf692518>"
      ]
     },
     "execution_count": 14,
     "metadata": {},
     "output_type": "execute_result"
    },
    {
     "data": {
      "image/png": "[encoded data removed]",
      "text/plain": [
       "<matplotlib.figure.Figure at 0xef11978>"
      ]
     },
     "metadata": {},
     "output_type": "display_data"
    }
   ],
   "source": [
    "sns.barplot(x=\"Position\",y=\"Cost\", data=data_5)"
   ]
  },
  {
   "cell_type": "markdown",
   "metadata": {},
   "source": [
    "Cost associated with the player of each position"
   ]
  },
  {
   "cell_type": "markdown",
   "metadata": {},
   "source": [
    "--------------------------------------------------------------------------------------------------------------------------------\n",
    "Now that we have established which players bring in the most points, it is wise to invest in players, which bring in the most points and play the longest.\n",
    "\n",
    "We will do a team wise analysis of players. Lets start with arsenal."
   ]
  },
  {
   "cell_type": "markdown",
   "metadata": {},
   "source": [
    "First we see the performance patterns of player with ID - 12 ( Alexis Sanchez )"
   ]
  },
  {
   "cell_type": "code",
   "execution_count": 17,
   "metadata": {
    "collapsed": true
   },
   "outputs": [],
   "source": [
    "data = pd.read_csv(\"E:\\Project\\player 12.csv\")"
   ]
  },
  {
   "cell_type": "markdown",
   "metadata": {},
   "source": [
    "Regression using seaborn library"
   ]
  },
  {
   "cell_type": "code",
   "execution_count": 20,
   "metadata": {
    "collapsed": false
   },
   "outputs": [
    {
     "data": {
      "text/plain": [
       "<seaborn.axisgrid.FacetGrid at 0x10a40898>"
      ]
     },
     "execution_count": 20,
     "metadata": {},
     "output_type": "execute_result"
    },
    {
     "data": {
      "image/png": "[encoded data removed]",
      "text/plain": [
       "<matplotlib.figure.Figure at 0x10a400b8>"
      ]
     },
     "metadata": {},
     "output_type": "display_data"
    }
   ],
   "source": [
    "sns.lmplot(data=data, x=\"Total Points\", y=\"Value\", order = 2)\n",
    "#print(x.shape)\n",
    "#print(y.shape)"
   ]
  },
  {
   "cell_type": "markdown",
   "metadata": {},
   "source": [
    "The following graph shows a second order regression graph between the value of the player 12 to his total points"
   ]
  },
  {
   "cell_type": "code",
   "execution_count": 21,
   "metadata": {
    "collapsed": false
   },
   "outputs": [
    {
     "name": "stdout",
     "output_type": "stream",
     "text": [
      "[  8.24785527e-03  -1.78672904e-01   1.12593561e+02]\n"
     ]
    }
   ],
   "source": [
    "x=data['Total Points']\n",
    "y=data['Value']\n",
    "z = np.polyfit(x, y, 2)\n",
    "print z"
   ]
  },
  {
   "cell_type": "markdown",
   "metadata": {},
   "source": [
    "This is the values, that the coefficient hold.\n",
    "This model was checked against future values. The model is currently not very accurate. \n",
    "We will try and see how accuracy improves when scikit is used to split data into test and train data."
   ]
  },
  {
   "cell_type": "code",
   "execution_count": null,
   "metadata": {
    "collapsed": true
   },
   "outputs": [],
   "source": []
  },
  {
   "cell_type": "code",
   "execution_count": null,
   "metadata": {
    "collapsed": true
   },
   "outputs": [],
   "source": []
  },
  {
   "cell_type": "code",
   "execution_count": null,
   "metadata": {
    "collapsed": true
   },
   "outputs": [],
   "source": []
  },
  {
   "cell_type": "code",
   "execution_count": null,
   "metadata": {
    "collapsed": true
   },
   "outputs": [],
   "source": []
  },
  {
   "cell_type": "code",
   "execution_count": null,
   "metadata": {
    "collapsed": true
   },
   "outputs": [],
   "source": []
  },
  {
   "cell_type": "code",
   "execution_count": null,
   "metadata": {
    "collapsed": true
   },
   "outputs": [],
   "source": []
  },
  {
   "cell_type": "code",
   "execution_count": null,
   "metadata": {
    "collapsed": true
   },
   "outputs": [],
   "source": []
  },
  {
   "cell_type": "code",
   "execution_count": null,
   "metadata": {
    "collapsed": true
   },
   "outputs": [],
   "source": []
  },
  {
   "cell_type": "code",
   "execution_count": null,
   "metadata": {
    "collapsed": true
   },
   "outputs": [],
   "source": []
  },
  {
   "cell_type": "code",
   "execution_count": null,
   "metadata": {
    "collapsed": true
   },
   "outputs": [],
   "source": []
  },
  {
   "cell_type": "code",
   "execution_count": null,
   "metadata": {
    "collapsed": true
   },
   "outputs": [],
   "source": []
  }
 ],
 "metadata": {
  "anaconda-cloud": {},
  "kernelspec": {
   "display_name": "Python [default]",
   "language": "python",
   "name": "python2"
  },
  "language_info": {
   "codemirror_mode": {
    "name": "ipython",
    "version": 2
   },
   "file_extension": ".py",
   "mimetype": "text/x-python",
   "name": "python",
   "nbconvert_exporter": "python",
   "pygments_lexer": "ipython2",
   "version": "2.7.12"
  }
 },
 "nbformat": 4,
 "nbformat_minor": 1
}
