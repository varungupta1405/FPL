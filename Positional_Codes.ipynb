{
 "cells": [
  {
   "cell_type": "code",
   "execution_count": 6,
   "metadata": {
    "collapsed": false
   },
   "outputs": [
    {
     "ename": "NameError",
     "evalue": "name 'load' is not defined",
     "output_type": "error",
     "traceback": [
      "\u001b[0;31m---------------------------------------------------------------------------\u001b[0m",
      "\u001b[0;31mNameError\u001b[0m                                 Traceback (most recent call last)",
      "\u001b[0;32m<ipython-input-6-b10edfa0b4e8>\u001b[0m in \u001b[0;36m<module>\u001b[0;34m()\u001b[0m\n\u001b[1;32m      4\u001b[0m \u001b[1;33m\u001b[0m\u001b[0m\n\u001b[1;32m      5\u001b[0m \u001b[0murl\u001b[0m \u001b[1;33m=\u001b[0m \u001b[0murllib\u001b[0m\u001b[1;33m.\u001b[0m\u001b[0murlopen\u001b[0m\u001b[1;33m(\u001b[0m\u001b[1;34m\"https://123movies.is/movie/search/big+bang\"\u001b[0m\u001b[1;33m)\u001b[0m      \u001b[1;31m#single static address\u001b[0m\u001b[1;33m\u001b[0m\u001b[0m\n\u001b[0;32m----> 6\u001b[0;31m \u001b[0mdata\u001b[0m \u001b[1;33m=\u001b[0m \u001b[0mload\u001b[0m\u001b[1;33m(\u001b[0m\u001b[0murl\u001b[0m\u001b[1;33m)\u001b[0m\u001b[1;33m\u001b[0m\u001b[0m\n\u001b[0m",
      "\u001b[0;31mNameError\u001b[0m: name 'load' is not defined"
     ]
    }
   ],
   "source": [
    "import htmllib, json\n",
    "import pandas as pd\n",
    "from pandas import DataFrame,Series   #learn about pandas\n",
    "\n",
    "url = urllib.urlopen(\"https://123movies.is/movie/search/big+bang\")      #single static address\n",
    "data = load(url)"
   ]
  },
  {
   "cell_type": "code",
   "execution_count": null,
   "metadata": {
    "collapsed": true
   },
   "outputs": [],
   "source": []
  },
  {
   "cell_type": "code",
   "execution_count": 2,
   "metadata": {
    "collapsed": false
   },
   "outputs": [
    {
     "name": "stdout",
     "output_type": "stream",
     "text": [
      "   ID Player Type Shortform\n",
      "0   1  Goalkeeper       GKP\n",
      "1   2    Defender       DEF\n",
      "2   3  Midfielder       MID\n",
      "3   4     Forward       FWD\n"
     ]
    }
   ],
   "source": [
    "lst_id = []\n",
    "lst_singular_name =[]\n",
    "lst_singular_name_short =[]\n",
    "\n",
    "for a in data ['element_types']:\n",
    "    lst_id.append(a['id'])\n",
    "    lst_singular_name.append(a['singular_name'])\n",
    "    lst_singular_name_short.append(a['singular_name_short'])\n",
    "    \n",
    "dframe = {}\n",
    "dframe = DataFrame(dframe)\n",
    "\n",
    "dframe['ID'] = lst_id\n",
    "dframe['Player Type'] = lst_singular_name\n",
    "dframe['Shortform'] = lst_singular_name_short\n",
    "\n",
    "print dframe\n",
    "\n",
    "#dframe.to_csv('D:\\Project\\Positional_Codes.csv', encoding='utf-8')"
   ]
  },
  {
   "cell_type": "code",
   "execution_count": null,
   "metadata": {
    "collapsed": true
   },
   "outputs": [],
   "source": []
  }
 ],
 "metadata": {
  "anaconda-cloud": {},
  "kernelspec": {
   "display_name": "Python [conda root]",
   "language": "python",
   "name": "conda-root-py"
  },
  "language_info": {
   "codemirror_mode": {
    "name": "ipython",
    "version": 2
   },
   "file_extension": ".py",
   "mimetype": "text/x-python",
   "name": "python",
   "nbconvert_exporter": "python",
   "pygments_lexer": "ipython2",
   "version": "2.7.12"
  }
 },
 "nbformat": 4,
 "nbformat_minor": 0
}
